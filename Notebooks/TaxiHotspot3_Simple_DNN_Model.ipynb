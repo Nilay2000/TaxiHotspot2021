{
  "nbformat": 4,
  "nbformat_minor": 0,
  "metadata": {
    "kernelspec": {
      "name": "python3",
      "display_name": "Python 3"
    },
    "language_info": {
      "codemirror_mode": {
        "name": "ipython",
        "version": 3
      },
      "file_extension": ".py",
      "mimetype": "text/x-python",
      "name": "python",
      "nbconvert_exporter": "python",
      "pygments_lexer": "ipython3",
      "version": "3.7.3"
    },
    "colab": {
      "name": "TaxiHotspot3_Simple DNN Model.ipynb",
      "provenance": []
    },
    "accelerator": "GPU"
  },
  "cells": [
    {
      "cell_type": "markdown",
      "metadata": {
        "id": "jfvrsjhkUUQo"
      },
      "source": [
        "<table width=\"100%\" border=\"3\">\r\n",
        "  <tbody>\r\n",
        "    <tr>\r\n",
        "      <td ><img src=\"https://aidea-web.tw/images/web/logo_white.png\" alt=\"Aidea\" width=\"400\"/></td>\r\n",
        "      <td align='left'><h1>Exercise 3: Simple DNN model for Hotspot Prediction algorithm</h1></td>\r\n",
        "    </tr>\r\n",
        "  </tbody>\r\n",
        "</table>\r\n",
        "Taxi Hotspot Prediction"
      ]
    },
    {
      "cell_type": "code",
      "metadata": {
        "id": "s_sEnWLXQoQy"
      },
      "source": [
        "import numpy as np\n",
        "import pandas as pd\n",
        "import matplotlib.pyplot as plt\n",
        "%matplotlib inline"
      ],
      "execution_count": null,
      "outputs": []
    },
    {
      "cell_type": "code",
      "metadata": {
        "id": "SDFRP2PZVZkm"
      },
      "source": [
        "from google_drive_downloader import GoogleDriveDownloader\r\n",
        "GoogleDriveDownloader.download_file_from_google_drive(file_id='13BhHdMYUP7VxYV1PNoQGx-wldEMebjyd',dest_path='./content', unzip=True)"
      ],
      "execution_count": null,
      "outputs": []
    },
    {
      "cell_type": "code",
      "metadata": {
        "id": "c__suSFCQoQ5"
      },
      "source": [
        "#Read training data\n",
        "df_train = pd.read_csv('taxi_data/train_hire_stats.csv')\n",
        "df_train.shape"
      ],
      "execution_count": null,
      "outputs": []
    },
    {
      "cell_type": "code",
      "metadata": {
        "id": "HyApVdaoQoQ-"
      },
      "source": [
        "len(df_train)"
      ],
      "execution_count": null,
      "outputs": []
    },
    {
      "cell_type": "code",
      "metadata": {
        "id": "VvuNPBX8QoRA"
      },
      "source": [
        "df_train.head()"
      ],
      "execution_count": null,
      "outputs": []
    },
    {
      "cell_type": "code",
      "metadata": {
        "id": "T_g6semNQoRC"
      },
      "source": [
        "#Declare weekday & workday\n",
        "isworkday = np.ones((len(df_train),), dtype=int)\n",
        "weekday = np.ones((len(df_train),), dtype=int)"
      ],
      "execution_count": null,
      "outputs": []
    },
    {
      "cell_type": "code",
      "metadata": {
        "id": "d9A710-NQoQ8"
      },
      "source": [
        "#Check weekday & workday\n",
        "#additional holidays\n",
        "holidays= {'2016-02-08', '2016-02-09', '2016-02-10', '2016-02-11', '2016-02-12','2016-02-29', '2016-04-04', '2016-04-05', '2016-06-09', '2016-06-10', \n",
        "'2016-09-15', '2016-09-16', '2016-10-10', '2017-01-02', '2017-01-27', '2017-01-30', '2017-02-01','2017-02-27', '2017-02-28'}\n",
        "#additional workdays\n",
        "makeupworkdays = {'2016-06-04', '2016-09-10', '2017-02-18'}"
      ],
      "execution_count": null,
      "outputs": []
    },
    {
      "cell_type": "code",
      "metadata": {
        "id": "3CwRY6TcQoRG"
      },
      "source": [
        "#Compute weekday & workday\n",
        "#weekday()\n",
        "#0 == Monday, #1 == Tuesday, #2 == Wednesday,  #3 == Thursday,  #4 == Friday,  #5 == Saturday, #6 == Sunday\n",
        "from datetime import datetime\n",
        "\n",
        "for index, row in df_train.iterrows():\n",
        "    if row['Date'] in holidays:\n",
        "        isworkday[index] = 0\n",
        "    else:\n",
        "        dd=datetime.strptime(row['Date'], \"%Y-%m-%d\")\n",
        "        weekday[index]= dd.weekday() \n",
        "        if weekday[index] >=5 and row['Date'] not in makeupworkdays:\n",
        "            isworkday[index] = 0\n"
      ],
      "execution_count": null,
      "outputs": []
    },
    {
      "cell_type": "code",
      "metadata": {
        "id": "VmNklKRxQoRJ"
      },
      "source": [
        "#Build a new dataframe from the training data\n",
        "RawX = pd.DataFrame(df_train[[\"Zone_ID\", \"Hour_slot\"]])\n",
        "RawX['isworkday'] = isworkday\n",
        "RawX['weekday'] = weekday"
      ],
      "execution_count": null,
      "outputs": []
    },
    {
      "cell_type": "code",
      "metadata": {
        "id": "nIwsF-u-QoRN"
      },
      "source": [
        "#See the raw input data\n",
        "RawX.head()"
      ],
      "execution_count": null,
      "outputs": []
    },
    {
      "cell_type": "code",
      "metadata": {
        "id": "JOaqeICHQoRQ"
      },
      "source": [
        "#Use OneHotEncoder\n",
        "from sklearn.preprocessing import OneHotEncoder\n",
        "enc = OneHotEncoder(handle_unknown='ignore')"
      ],
      "execution_count": null,
      "outputs": []
    },
    {
      "cell_type": "code",
      "metadata": {
        "id": "uE0r-Tx3QoRT"
      },
      "source": [
        "#Build encoder\n",
        "enc.fit_transform(RawX)\n",
        "enc.categories_"
      ],
      "execution_count": null,
      "outputs": []
    },
    {
      "cell_type": "code",
      "metadata": {
        "id": "GkERcm2aQoRV"
      },
      "source": [
        "#Transform data into one hot vector\n",
        "X = enc.transform(RawX).toarray()\n",
        "X.shape"
      ],
      "execution_count": null,
      "outputs": []
    },
    {
      "cell_type": "code",
      "metadata": {
        "id": "Q9Rho6CwQoRX"
      },
      "source": [
        "#See the cooked input data\n",
        "X[0:3, :]"
      ],
      "execution_count": null,
      "outputs": []
    },
    {
      "cell_type": "code",
      "metadata": {
        "id": "exz6MUOGQoRb"
      },
      "source": [
        "#Resize y into (0,1)\n",
        "y = df_train[\"Hire_count\"].values/339.0\n",
        "y.shape"
      ],
      "execution_count": null,
      "outputs": []
    },
    {
      "cell_type": "code",
      "metadata": {
        "id": "U-_6SiHHQoRe"
      },
      "source": [
        "import tensorflow as tf\n",
        "from tensorflow import keras\n",
        "from tensorflow.keras.models import Sequential\n",
        "from tensorflow.keras.layers import Input, Dense, Activation, Dropout"
      ],
      "execution_count": null,
      "outputs": []
    },
    {
      "cell_type": "code",
      "metadata": {
        "id": "RE1U1l2aQoRg"
      },
      "source": [
        "# create and fit a Baseline Neural Network Model\n",
        "model = Sequential()\n",
        "model.add(Dense(128, activation='relu', input_dim=58))\n",
        "model.add(Dense(units=10, activation='softmax'))\n",
        "model.add(Dropout(0.1))\n",
        "model.add(Dense(1))"
      ],
      "execution_count": null,
      "outputs": []
    },
    {
      "cell_type": "code",
      "metadata": {
        "id": "jqzNtS1FQoRj"
      },
      "source": [
        "model.compile(loss='mse', optimizer='adam')\n",
        "model.fit(X, y, epochs=10, batch_size=1024, verbose=1)"
      ],
      "execution_count": null,
      "outputs": []
    },
    {
      "cell_type": "code",
      "metadata": {
        "id": "TGjHB7UoSzwx"
      },
      "source": [
        "yhat = model.predict(X)*339.0"
      ],
      "execution_count": null,
      "outputs": []
    },
    {
      "cell_type": "code",
      "metadata": {
        "id": "wkyLhC3STrhT"
      },
      "source": [
        "for i in range(len(yhat)):\n",
        "  if yhat[i] < 0.0:\n",
        "    yhat[i] = 0.0"
      ],
      "execution_count": null,
      "outputs": []
    },
    {
      "cell_type": "code",
      "metadata": {
        "id": "Pl0hOLsfS_UA"
      },
      "source": [
        "dfhat = pd.DataFrame(yhat)\n",
        "dfhat.to_csv('train_predict.csv')"
      ],
      "execution_count": null,
      "outputs": []
    },
    {
      "cell_type": "code",
      "metadata": {
        "id": "9B_sL2r0QoRl"
      },
      "source": [
        "df_test = pd.read_csv('taxi_data/test_hire_stats.csv')\n",
        "df_test.shape"
      ],
      "execution_count": null,
      "outputs": []
    },
    {
      "cell_type": "code",
      "metadata": {
        "id": "o4x_7U61QoRn"
      },
      "source": [
        "#Declare weekday & workday\n",
        "isworkday2 = np.ones((len(df_test),), dtype=int)\n",
        "weekday2 = np.ones((len(df_test),), dtype=int)"
      ],
      "execution_count": null,
      "outputs": []
    },
    {
      "cell_type": "code",
      "metadata": {
        "id": "j8yGqV_xQoRq"
      },
      "source": [
        "for index, row in df_test.iterrows():\n",
        "    if row['Date'] in holidays:\n",
        "        isworkday2[index] = 0\n",
        "    else:\n",
        "        dd=datetime.strptime(row['Date'], \"%Y-%m-%d\")\n",
        "        weekday2[index]= dd.weekday() \n",
        "        if weekday2[index] >=5 and row['Date'] not in makeupworkdays:\n",
        "            isworkday2[index] = 0"
      ],
      "execution_count": null,
      "outputs": []
    },
    {
      "cell_type": "code",
      "metadata": {
        "id": "VKR7y18xQoRw"
      },
      "source": [
        "Test = pd.DataFrame(df_test[[\"Zone_ID\", \"Hour_slot\"]])\n",
        "Test['isworkday'] = isworkday2\n",
        "Test['weekday'] = weekday2"
      ],
      "execution_count": null,
      "outputs": []
    },
    {
      "cell_type": "code",
      "metadata": {
        "id": "0WV4nV-oQoR1"
      },
      "source": [
        "Xtest = enc.transform(Test).toarray()\n",
        "Xtest.shape"
      ],
      "execution_count": null,
      "outputs": []
    },
    {
      "cell_type": "code",
      "metadata": {
        "id": "wk2rGghsQoR6"
      },
      "source": [
        "yt = model.predict(Xtest)*339.0"
      ],
      "execution_count": null,
      "outputs": []
    },
    {
      "cell_type": "code",
      "metadata": {
        "id": "uTNqB29VQoR9"
      },
      "source": [
        "plt.plot(yt)"
      ],
      "execution_count": null,
      "outputs": []
    },
    {
      "cell_type": "code",
      "metadata": {
        "id": "amgqICdqQoSA"
      },
      "source": [
        "dfOut = pd.DataFrame(yt)"
      ],
      "execution_count": null,
      "outputs": []
    },
    {
      "cell_type": "code",
      "metadata": {
        "id": "aanbg-qzQoSC"
      },
      "source": [
        "dfOut.to_csv('Result.csv')"
      ],
      "execution_count": null,
      "outputs": []
    },
    {
      "cell_type": "code",
      "metadata": {
        "id": "T5ir3I5bQoSF"
      },
      "source": [
        ""
      ],
      "execution_count": null,
      "outputs": []
    }
  ]
}